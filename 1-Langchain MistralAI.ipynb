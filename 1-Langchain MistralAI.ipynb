{
 "cells": [
  {
   "cell_type": "code",
   "execution_count": 16,
   "id": "0d51f72f-95b9-4403-b695-706a1a305d14",
   "metadata": {},
   "outputs": [],
   "source": [
    "import os\n",
    "from decouple import config, AutoConfig\n",
    "from langchain_core.messages import HumanMessage, SystemMessage\n",
    "from langchain_mistralai.chat_models import ChatMistralAI\n",
    "import os\n",
    "config = AutoConfig(search_path=\"/home/harry/Chatbot\") "
   ]
  },
  {
   "cell_type": "code",
   "execution_count": 17,
   "id": "feaf38be-b3b8-449e-bdd9-7a2ec969dbd9",
   "metadata": {},
   "outputs": [],
   "source": [
    "MISTRAL_API_KEY = config(\"MISTRAL_API_KEY\")"
   ]
  },
  {
   "cell_type": "code",
   "execution_count": 18,
   "id": "d2e747d5-bf78-4284-ab0c-60111a7c80fd",
   "metadata": {},
   "outputs": [],
   "source": [
    "model = ChatMistralAI(api_key=MISTRAL_API_KEY)"
   ]
  },
  {
   "cell_type": "code",
   "execution_count": 19,
   "id": "1d84dccc-58ae-4e7f-a279-79e489360acf",
   "metadata": {},
   "outputs": [],
   "source": [
    "messages = [\n",
    "    SystemMessage(content=\"translate from English to German\"),\n",
    "    HumanMessage(content=\"hi!\")\n",
    "]\n",
    "\n",
    "result = model(messages)"
   ]
  },
  {
   "cell_type": "code",
   "execution_count": 20,
   "id": "13550772-326d-4e97-b7f0-2915db5ff609",
   "metadata": {},
   "outputs": [
    {
     "data": {
      "text/plain": [
       "AIMessage(content='Hello! In German, \"hi\" is translated as \"hallo\" or \"hi\". So, \"hi!\" in German is \"hallo!\" or \"hi!\". If you want to be more formal, you can use \"guten Tag\" instead of \"hallo\" or \"hi\".', additional_kwargs={}, response_metadata={'token_usage': {'prompt_tokens': 17, 'total_tokens': 79, 'completion_tokens': 62}, 'model': 'mistral-small', 'finish_reason': 'stop'}, id='run-ec9c2243-79a0-4d6a-b5eb-daa4e8048ee7-0', usage_metadata={'input_tokens': 17, 'output_tokens': 62, 'total_tokens': 79})"
      ]
     },
     "execution_count": 20,
     "metadata": {},
     "output_type": "execute_result"
    }
   ],
   "source": [
    "result"
   ]
  },
  {
   "cell_type": "code",
   "execution_count": 21,
   "id": "d8f56da1-7943-4c4b-8f9b-fce04405dc8d",
   "metadata": {},
   "outputs": [],
   "source": [
    "from langchain_core.output_parsers import StrOutputParser"
   ]
  },
  {
   "cell_type": "code",
   "execution_count": 22,
   "id": "4ea686f7-5a22-43bb-8fd7-7e0d06da3e33",
   "metadata": {},
   "outputs": [
    {
     "data": {
      "text/plain": [
       "'Hello! In German, \"hi\" is translated as \"hallo\" or \"hi\". So, \"hi!\" in German is \"hallo!\" or \"hi!\". If you want to be more formal, you can use \"guten Tag\" instead of \"hallo\" or \"hi\".'"
      ]
     },
     "execution_count": 22,
     "metadata": {},
     "output_type": "execute_result"
    }
   ],
   "source": [
    "parser = StrOutputParser()\n",
    "parser.invoke(result)"
   ]
  },
  {
   "cell_type": "code",
   "execution_count": 23,
   "id": "9bd61e1a-215a-41f8-b45d-8f462f84d659",
   "metadata": {},
   "outputs": [
    {
     "data": {
      "text/plain": [
       "'Hallo! (informal)\\n\\nThis is a simple greeting. In a more formal context, you could say \"Guten Tag\" instead. I\\'m here to help you with any English to German translations you might need, so feel free to ask me anything! How can I assist you today?'"
      ]
     },
     "execution_count": 23,
     "metadata": {},
     "output_type": "execute_result"
    }
   ],
   "source": [
    "chain = model | parser \n",
    "chain.invoke(messages)"
   ]
  },
  {
   "cell_type": "code",
   "execution_count": null,
   "id": "0229c27d-2bce-406c-aa2f-70379b3d96b1",
   "metadata": {},
   "outputs": [],
   "source": []
  }
 ],
 "metadata": {
  "kernelspec": {
   "display_name": "Python 3 (ipykernel)",
   "language": "python",
   "name": "python3"
  },
  "language_info": {
   "codemirror_mode": {
    "name": "ipython",
    "version": 3
   },
   "file_extension": ".py",
   "mimetype": "text/x-python",
   "name": "python",
   "nbconvert_exporter": "python",
   "pygments_lexer": "ipython3",
   "version": "3.11.11"
  }
 },
 "nbformat": 4,
 "nbformat_minor": 5
}
