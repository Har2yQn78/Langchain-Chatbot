{
 "cells": [
  {
   "cell_type": "code",
   "execution_count": 24,
   "id": "0d51f72f-95b9-4403-b695-706a1a305d14",
   "metadata": {},
   "outputs": [],
   "source": [
    "import os\n",
    "from decouple import config, AutoConfig\n",
    "from langchain_core.messages import HumanMessage, SystemMessage\n",
    "from langchain_mistralai.chat_models import ChatMistralAI\n",
    "import os\n",
    "config = AutoConfig(search_path=\"/home/harry/Chatbot\") "
   ]
  },
  {
   "cell_type": "code",
   "execution_count": 25,
   "id": "feaf38be-b3b8-449e-bdd9-7a2ec969dbd9",
   "metadata": {},
   "outputs": [],
   "source": [
    "MISTRAL_API_KEY = config(\"MISTRAL_API_KEY\")"
   ]
  },
  {
   "cell_type": "code",
   "execution_count": 26,
   "id": "15eef67a-c75a-42c6-afa0-06e23ada2803",
   "metadata": {},
   "outputs": [],
   "source": [
    "LLM_CONFIG = {\n",
    "    \"api_key\" : MISTRAL_API_KEY, \n",
    "}"
   ]
  },
  {
   "cell_type": "code",
   "execution_count": 27,
   "id": "d2e747d5-bf78-4284-ab0c-60111a7c80fd",
   "metadata": {},
   "outputs": [],
   "source": [
    "model = ChatMistralAI(**LLM_CONFIG)"
   ]
  },
  {
   "cell_type": "code",
   "execution_count": 28,
   "id": "1d84dccc-58ae-4e7f-a279-79e489360acf",
   "metadata": {},
   "outputs": [],
   "source": [
    "messages = [\n",
    "    SystemMessage(content=\"translate from English to German\"),\n",
    "    HumanMessage(content=\"hi!\")\n",
    "]\n",
    "\n",
    "result = model(messages)"
   ]
  },
  {
   "cell_type": "code",
   "execution_count": 29,
   "id": "13550772-326d-4e97-b7f0-2915db5ff609",
   "metadata": {},
   "outputs": [
    {
     "data": {
      "text/plain": [
       "AIMessage(content='Hello! In German, \"hi\" is translated as \"hallo\" or \"hi\". You can use either one, they are both commonly used in German-speaking countries.\\n\\nBest regards,\\nYour Autoblogging Team', additional_kwargs={}, response_metadata={'token_usage': {'prompt_tokens': 17, 'total_tokens': 65, 'completion_tokens': 48}, 'model': 'mistral-small', 'finish_reason': 'stop'}, id='run-ea5671a7-7c78-41be-9df3-279fb3f7db70-0', usage_metadata={'input_tokens': 17, 'output_tokens': 48, 'total_tokens': 65})"
      ]
     },
     "execution_count": 29,
     "metadata": {},
     "output_type": "execute_result"
    }
   ],
   "source": [
    "result"
   ]
  },
  {
   "cell_type": "code",
   "execution_count": 30,
   "id": "d8f56da1-7943-4c4b-8f9b-fce04405dc8d",
   "metadata": {},
   "outputs": [],
   "source": [
    "from langchain_core.output_parsers import StrOutputParser"
   ]
  },
  {
   "cell_type": "code",
   "execution_count": 31,
   "id": "4ea686f7-5a22-43bb-8fd7-7e0d06da3e33",
   "metadata": {},
   "outputs": [
    {
     "data": {
      "text/plain": [
       "'Hello! In German, \"hi\" is translated as \"hallo\" or \"hi\". You can use either one, they are both commonly used in German-speaking countries.\\n\\nBest regards,\\nYour Autoblogging Team'"
      ]
     },
     "execution_count": 31,
     "metadata": {},
     "output_type": "execute_result"
    }
   ],
   "source": [
    "parser = StrOutputParser()\n",
    "parser.invoke(result)"
   ]
  },
  {
   "cell_type": "code",
   "execution_count": 33,
   "id": "9bd61e1a-215a-41f8-b45d-8f462f84d659",
   "metadata": {},
   "outputs": [
    {
     "data": {
      "text/plain": [
       "'Hello! In German, \"hi\" is translated as \"hallo\" or \"hi\". So, in this case, the translation would be:\\n\\n\"hallo\" or \"hi\"\\n\\nI hope this helps! Let me know if you have any other questions or if there\\'s anything else I can assist you with.\\n\\nBest regards,\\nYour friendly AI language assistant'"
      ]
     },
     "execution_count": 33,
     "metadata": {},
     "output_type": "execute_result"
    }
   ],
   "source": [
    "chain = model | parser \n",
    "chain.invoke(messages)"
   ]
  },
  {
   "cell_type": "code",
   "execution_count": null,
   "id": "0229c27d-2bce-406c-aa2f-70379b3d96b1",
   "metadata": {},
   "outputs": [],
   "source": []
  }
 ],
 "metadata": {
  "kernelspec": {
   "display_name": "Python 3 (ipykernel)",
   "language": "python",
   "name": "python3"
  },
  "language_info": {
   "codemirror_mode": {
    "name": "ipython",
    "version": 3
   },
   "file_extension": ".py",
   "mimetype": "text/x-python",
   "name": "python",
   "nbconvert_exporter": "python",
   "pygments_lexer": "ipython3",
   "version": "3.11.11"
  }
 },
 "nbformat": 4,
 "nbformat_minor": 5
}
