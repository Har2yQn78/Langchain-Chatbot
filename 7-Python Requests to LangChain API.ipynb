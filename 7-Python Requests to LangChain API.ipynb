{
 "cells": [
  {
   "cell_type": "code",
   "execution_count": 10,
   "id": "059f66bc-a671-49ec-acd2-8bcb3c38cc78",
   "metadata": {},
   "outputs": [],
   "source": [
    "import requests"
   ]
  },
  {
   "cell_type": "code",
   "execution_count": 11,
   "id": "8c6cc1d5-ff04-4e04-9cdd-6d76bcac7e96",
   "metadata": {},
   "outputs": [
    {
     "data": {
      "text/plain": [
       "'http://localhost:8100/chain/invoke'"
      ]
     },
     "execution_count": 11,
     "metadata": {},
     "output_type": "execute_result"
    }
   ],
   "source": [
    "endpoint = \"http://localhost:8100/chain\"\n",
    "chain_type = \"/invoke\"\n",
    "url = f\"{endpoint}{chain_type}\"\n",
    "url"
   ]
  },
  {
   "cell_type": "code",
   "execution_count": 12,
   "id": "cb1955d4-51bc-4580-bc8a-893e91207a3b",
   "metadata": {},
   "outputs": [],
   "source": [
    "data = {\"input\": \"Tell me about Shiraz\"}"
   ]
  },
  {
   "cell_type": "code",
   "execution_count": 15,
   "id": "ca60ceb1-c904-4feb-b4c9-ec6594b0afb0",
   "metadata": {},
   "outputs": [
    {
     "data": {
      "text/plain": [
       "{'output': \"Shiraz is a city located in the Fars province of Iran. It is one of the top tourist cities in the country and is known as the city of poets and literature. Shiraz has a rich history and cultural heritage, with many famous poets and scholars hailing from the city. Some of the city's most popular attractions include the Eram Garden, the Tomb of Hafez, and the Tomb of Saadi. Shiraz is also known for its production of wine, although this has been prohibited since the Islamic Revolution in 1979.\",\n",
       " 'metadata': {'run_id': 'f37b3ddf-b4ed-42aa-9b35-c633a69dd3d0',\n",
       "  'feedback_tokens': []}}"
      ]
     },
     "execution_count": 15,
     "metadata": {},
     "output_type": "execute_result"
    }
   ],
   "source": [
    "r = requests.post(url, json=data)\n",
    "r.json()"
   ]
  },
  {
   "cell_type": "code",
   "execution_count": 16,
   "id": "3cfd5c7a-e3a2-4308-9c21-7b5e301b1f2c",
   "metadata": {},
   "outputs": [
    {
     "data": {
      "text/plain": [
       "\"Shiraz is a city located in the Fars province of Iran. It is one of the top tourist cities in the country and is known as the city of poets and literature. Shiraz has a rich history and cultural heritage, with many famous poets and scholars hailing from the city. Some of the city's most popular attractions include the Eram Garden, the Tomb of Hafez, and the Tomb of Saadi. Shiraz is also known for its production of wine, although this has been prohibited since the Islamic Revolution in 1979.\""
      ]
     },
     "execution_count": 16,
     "metadata": {},
     "output_type": "execute_result"
    }
   ],
   "source": [
    "r.json()['output']"
   ]
  },
  {
   "cell_type": "code",
   "execution_count": null,
   "id": "61f7da46-f166-4959-954c-de77863c409f",
   "metadata": {},
   "outputs": [],
   "source": []
  }
 ],
 "metadata": {
  "kernelspec": {
   "display_name": "Python 3 (ipykernel)",
   "language": "python",
   "name": "python3"
  },
  "language_info": {
   "codemirror_mode": {
    "name": "ipython",
    "version": 3
   },
   "file_extension": ".py",
   "mimetype": "text/x-python",
   "name": "python",
   "nbconvert_exporter": "python",
   "pygments_lexer": "ipython3",
   "version": "3.11.11"
  }
 },
 "nbformat": 4,
 "nbformat_minor": 5
}
