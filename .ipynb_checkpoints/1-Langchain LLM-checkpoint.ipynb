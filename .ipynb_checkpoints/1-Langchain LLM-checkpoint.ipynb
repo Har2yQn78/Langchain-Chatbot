{
 "cells": [
  {
   "cell_type": "code",
   "execution_count": 58,
   "id": "0d51f72f-95b9-4403-b695-706a1a305d14",
   "metadata": {},
   "outputs": [],
   "source": [
    "import os\n",
    "from decouple import config, AutoConfig\n",
    "from langchain_community.chat_models import ChatOpenAI\n",
    "from langchain.schema import HumanMessage, SystemMessage\n",
    "import os\n",
    "config = AutoConfig(search_path=\"/home/harry/Chatbot\") "
   ]
  },
  {
   "cell_type": "code",
   "execution_count": 59,
   "id": "8ebcc5cd-fd93-4caf-8c39-3bb6ff4fc5f4",
   "metadata": {},
   "outputs": [],
   "source": [
    "class ChatOpenRouter(ChatOpenAI):\n",
    "    def __init__(\n",
    "        self,\n",
    "        model_name: str,\n",
    "        openai_api_key: str = None,\n",
    "        openai_api_base: str = \"https://openrouter.ai/api/v1\",\n",
    "        **kwargs\n",
    "    ):\n",
    "        openai_api_key = openai_api_key or os.getenv(\"LLM_API_KEY\")\n",
    "        super().__init__(\n",
    "            openai_api_base=openai_api_base,\n",
    "            openai_api_key=openai_api_key,\n",
    "            model_name=model_name,\n",
    "            **kwargs\n",
    "        )"
   ]
  },
  {
   "cell_type": "code",
   "execution_count": 60,
   "id": "feaf38be-b3b8-449e-bdd9-7a2ec969dbd9",
   "metadata": {},
   "outputs": [],
   "source": [
    "LLM_API_KEY = config(\"LLM_API_KEY\")"
   ]
  },
  {
   "cell_type": "code",
   "execution_count": 61,
   "id": "a38e534b-9e84-4e08-8d3b-48e561949257",
   "metadata": {},
   "outputs": [],
   "source": [
    "model_config = {\n",
    "     \"model_name\" : \"deepseek/deepseek-chat:free\",\n",
    "     \"openai_api_key\" : LLM_API_KEY\n",
    "}"
   ]
  },
  {
   "cell_type": "code",
   "execution_count": 62,
   "id": "75505e62-40fe-41e3-ac62-aee01da1c9da",
   "metadata": {},
   "outputs": [],
   "source": [
    "model = ChatOpenRouter(**model_config)"
   ]
  },
  {
   "cell_type": "code",
   "execution_count": 73,
   "id": "1d84dccc-58ae-4e7f-a279-79e489360acf",
   "metadata": {},
   "outputs": [],
   "source": [
    "messages = [\n",
    "    SystemMessage(content=\"translate from English to German\"),\n",
    "    HumanMessage(content=\"hi!\")\n",
    "]\n",
    "\n",
    "result = llm(messages)"
   ]
  },
  {
   "cell_type": "code",
   "execution_count": 74,
   "id": "13550772-326d-4e97-b7f0-2915db5ff609",
   "metadata": {},
   "outputs": [
    {
     "data": {
      "text/plain": [
       "AIMessage(content='Hallo!', additional_kwargs={}, response_metadata={'token_usage': {'completion_tokens': 4, 'prompt_tokens': 10, 'total_tokens': 14, 'completion_tokens_details': None, 'prompt_tokens_details': None}, 'model_name': 'deepseek/deepseek-chat:free', 'system_fingerprint': None, 'finish_reason': 'stop', 'logprobs': None}, id='run-59b2415f-c81c-41f6-8bb4-91042479f147-0')"
      ]
     },
     "execution_count": 74,
     "metadata": {},
     "output_type": "execute_result"
    }
   ],
   "source": [
    "result"
   ]
  },
  {
   "cell_type": "code",
   "execution_count": 75,
   "id": "d8f56da1-7943-4c4b-8f9b-fce04405dc8d",
   "metadata": {},
   "outputs": [],
   "source": [
    "from langchain_core.output_parsers import StrOutputParser"
   ]
  },
  {
   "cell_type": "code",
   "execution_count": 76,
   "id": "4ea686f7-5a22-43bb-8fd7-7e0d06da3e33",
   "metadata": {},
   "outputs": [
    {
     "data": {
      "text/plain": [
       "'Hallo!'"
      ]
     },
     "execution_count": 76,
     "metadata": {},
     "output_type": "execute_result"
    }
   ],
   "source": [
    "parser = StrOutputParser()\n",
    "parser.invoke(result)"
   ]
  },
  {
   "cell_type": "code",
   "execution_count": 78,
   "id": "9bd61e1a-215a-41f8-b45d-8f462f84d659",
   "metadata": {},
   "outputs": [
    {
     "data": {
      "text/plain": [
       "'Hallo!'"
      ]
     },
     "execution_count": 78,
     "metadata": {},
     "output_type": "execute_result"
    }
   ],
   "source": [
    "chain = model | parser \n",
    "chain.invoke(messages)"
   ]
  },
  {
   "cell_type": "code",
   "execution_count": null,
   "id": "0229c27d-2bce-406c-aa2f-70379b3d96b1",
   "metadata": {},
   "outputs": [],
   "source": []
  }
 ],
 "metadata": {
  "kernelspec": {
   "display_name": "Python 3 (ipykernel)",
   "language": "python",
   "name": "python3"
  },
  "language_info": {
   "codemirror_mode": {
    "name": "ipython",
    "version": 3
   },
   "file_extension": ".py",
   "mimetype": "text/x-python",
   "name": "python",
   "nbconvert_exporter": "python",
   "pygments_lexer": "ipython3",
   "version": "3.11.11"
  }
 },
 "nbformat": 4,
 "nbformat_minor": 5
}
