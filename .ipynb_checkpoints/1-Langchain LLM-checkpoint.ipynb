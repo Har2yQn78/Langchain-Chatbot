{
 "cells": [
  {
   "cell_type": "code",
   "execution_count": 1,
   "id": "0d51f72f-95b9-4403-b695-706a1a305d14",
   "metadata": {},
   "outputs": [],
   "source": [
    "from decouple import config, AutoConfig\n",
    "import os\n",
    "config = AutoConfig(search_path=\"/home/harry/Chatbot\") "
   ]
  },
  {
   "cell_type": "code",
   "execution_count": 3,
   "id": "5be0e165-5c8c-4a02-9a5c-8dc79855b9fa",
   "metadata": {},
   "outputs": [],
   "source": [
    "LLM_API_KEY = config(\"LLM_API_KEY\") "
   ]
  },
  {
   "cell_type": "code",
   "execution_count": 4,
   "id": "8ebcc5cd-fd93-4caf-8c39-3bb6ff4fc5f4",
   "metadata": {},
   "outputs": [],
   "source": [
    "from langchain_openai import ChatOpenAI"
   ]
  },
  {
   "cell_type": "code",
   "execution_count": 6,
   "id": "feaf38be-b3b8-449e-bdd9-7a2ec969dbd9",
   "metadata": {},
   "outputs": [],
   "source": [
    "LLM_Config = {\n",
    "    \"api_key\" : LLM_API_KEY,\n",
    "    \"model\" : \"qwen/qwen-vl-plus:free\"\n",
    "}"
   ]
  },
  {
   "cell_type": "code",
   "execution_count": 7,
   "id": "75505e62-40fe-41e3-ac62-aee01da1c9da",
   "metadata": {},
   "outputs": [],
   "source": [
    "model = ChatOpenAI(**LLM_Config)"
   ]
  },
  {
   "cell_type": "code",
   "execution_count": 8,
   "id": "1d84dccc-58ae-4e7f-a279-79e489360acf",
   "metadata": {},
   "outputs": [
    {
     "data": {
      "text/plain": [
       "ChatOpenAI(client=<openai.resources.chat.completions.completions.Completions object at 0x7ff83d8faa10>, async_client=<openai.resources.chat.completions.completions.AsyncCompletions object at 0x7ff83d8b0910>, root_client=<openai.OpenAI object at 0x7ff83da3ff50>, root_async_client=<openai.AsyncOpenAI object at 0x7ff83d8fb310>, model_name='qwen/qwen-vl-plus:free', model_kwargs={}, openai_api_key=SecretStr('**********'))"
      ]
     },
     "execution_count": 8,
     "metadata": {},
     "output_type": "execute_result"
    }
   ],
   "source": [
    "model"
   ]
  },
  {
   "cell_type": "code",
   "execution_count": 9,
   "id": "13550772-326d-4e97-b7f0-2915db5ff609",
   "metadata": {},
   "outputs": [],
   "source": [
    "from langchain_core.messages import HumanMessage, SystemMessage"
   ]
  },
  {
   "cell_type": "code",
   "execution_count": 11,
   "id": "7f39b119-f6a9-4264-8fe6-6f05c17586ff",
   "metadata": {},
   "outputs": [],
   "source": [
    "massages = [\n",
    "    SystemMessage(content=\"translate from English to Farsi\"),\n",
    "    HumanMessage(content=\"hi!\")\n",
    "    ]"
   ]
  },
  {
   "cell_type": "code",
   "execution_count": 12,
   "id": "1a405d43-371f-4156-ba50-ad71fa1de579",
   "metadata": {},
   "outputs": [
    {
     "data": {
      "text/plain": [
       "[SystemMessage(content='translate from English to Farsi', additional_kwargs={}, response_metadata={}),\n",
       " HumanMessage(content='hi!', additional_kwargs={}, response_metadata={})]"
      ]
     },
     "execution_count": 12,
     "metadata": {},
     "output_type": "execute_result"
    }
   ],
   "source": [
    "massages"
   ]
  },
  {
   "cell_type": "code",
   "execution_count": null,
   "id": "045ea5e1-06f7-45d1-8a77-fb54543b8353",
   "metadata": {},
   "outputs": [],
   "source": [
    "result = model.invoke(massages)"
   ]
  },
  {
   "cell_type": "code",
   "execution_count": null,
   "id": "39018e72-05ae-4fc5-8dda-b9ef2caff91e",
   "metadata": {},
   "outputs": [],
   "source": [
    "result"
   ]
  },
  {
   "cell_type": "code",
   "execution_count": null,
   "id": "d8f56da1-7943-4c4b-8f9b-fce04405dc8d",
   "metadata": {},
   "outputs": [],
   "source": []
  }
 ],
 "metadata": {
  "kernelspec": {
   "display_name": "Python 3 (ipykernel)",
   "language": "python",
   "name": "python3"
  },
  "language_info": {
   "codemirror_mode": {
    "name": "ipython",
    "version": 3
   },
   "file_extension": ".py",
   "mimetype": "text/x-python",
   "name": "python",
   "nbconvert_exporter": "python",
   "pygments_lexer": "ipython3",
   "version": "3.11.11"
  }
 },
 "nbformat": 4,
 "nbformat_minor": 5
}
