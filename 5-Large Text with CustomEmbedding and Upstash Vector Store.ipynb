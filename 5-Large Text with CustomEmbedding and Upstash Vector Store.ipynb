{
 "cells": [
  {
   "cell_type": "code",
   "execution_count": 1,
   "id": "0d51f72f-95b9-4403-b695-706a1a305d14",
   "metadata": {},
   "outputs": [],
   "source": [
    "import os\n",
    "import time \n",
    "import wikipedia\n",
    "from decouple import config, AutoConfig\n",
    "from langchain_mistralai.chat_models import ChatMistralAI\n",
    "from langchain.schema import HumanMessage, SystemMessage\n",
    "from langchain_core.prompts import ChatPromptTemplate\n",
    "from langchain_core.output_parsers import StrOutputParser\n",
    "from langchain_core.documents import Document\n",
    "config = AutoConfig(search_path=\"/home/harry/Chatbot\")"
   ]
  },
  {
   "cell_type": "code",
   "execution_count": 2,
   "id": "4bedd392-877e-48c0-860a-16388e0865fc",
   "metadata": {},
   "outputs": [],
   "source": [
    "from mistralai import Mistral\n",
    "from typing import List\n",
    "from langchain_core.embeddings import Embeddings"
   ]
  },
  {
   "cell_type": "code",
   "execution_count": 3,
   "id": "c0bf522b-4508-4149-a1aa-8e557983c95e",
   "metadata": {},
   "outputs": [],
   "source": [
    "MISTRAL_API_KEY = config(\"MISTRAL_API_KEY\")\n",
    "HF_TOKEN = config(\"HF_TOKEN\")\n",
    "os.environ[\"HF_TOKEN\"] = HF_TOKEN\n",
    "UPSTASH_VECTOR_REST_URL = config(\"UPSTASH_VECTOR_REST_URL\")\n",
    "UPSTASH_VECTOR_REST_TOKEN = config(\"UPSTASH_VECTOR_REST_TOKEN\")"
   ]
  },
  {
   "cell_type": "code",
   "execution_count": 4,
   "id": "b0550ad8-cd52-4c01-9454-34f09dc0ec0e",
   "metadata": {},
   "outputs": [],
   "source": [
    "from langchain_core.documents import Document\n",
    "\n",
    "documents = []\n",
    "cities = [\"Tehran, Tehran\", \"shiraz, fars\"]\n",
    "for city in cities:\n",
    "    wikipedia_page_result = wikipedia.page(title=city)\n",
    "    doc = Document(\n",
    "        page_content=wikipedia_page_result.content,\n",
    "        metadata={\n",
    "            \"source\": f\"{wikipedia_page_result.url}\",\n",
    "            \"title\": city,\n",
    "        }\n",
    "    )\n",
    "    documents.append(doc)"
   ]
  },
  {
   "cell_type": "code",
   "execution_count": 5,
   "id": "a7224876-7f54-451c-a485-7b8ae77c9feb",
   "metadata": {},
   "outputs": [
    {
     "data": {
      "text/plain": [
       "{'source': 'https://en.wikipedia.org/wiki/Shiraz', 'title': 'shiraz, fars'}"
      ]
     },
     "execution_count": 5,
     "metadata": {},
     "output_type": "execute_result"
    }
   ],
   "source": [
    "documents[1].metadata"
   ]
  },
  {
   "cell_type": "code",
   "execution_count": 6,
   "id": "c75fd518-4828-4a6e-8cdb-d1bf1953c14c",
   "metadata": {},
   "outputs": [
    {
     "data": {
      "text/plain": [
       "2"
      ]
     },
     "execution_count": 6,
     "metadata": {},
     "output_type": "execute_result"
    }
   ],
   "source": [
    "len(documents)"
   ]
  },
  {
   "cell_type": "code",
   "execution_count": 7,
   "id": "e07f2022-c02e-4f6a-8afe-e1dc2b9b06b0",
   "metadata": {},
   "outputs": [],
   "source": [
    "class MistralEmbeddings(Embeddings):\n",
    "    def __init__(self, model: str = \"mistral-embed\", batch_size: int = 32):\n",
    "        self.model = model\n",
    "        self.client = Mistral(api_key=MISTRAL_API_KEY)\n",
    "        self.batch_size = batch_size\n",
    "        \n",
    "    def embed_documents(self, texts: List[str]) -> List[List[float]]:\n",
    "        embeddings = []\n",
    "        for i in range(0, len(texts), self.batch_size):\n",
    "            batch = texts[i:i+self.batch_size]\n",
    "            cleaned_batch = [t.replace(\"\\n\", \" \") for t in batch]\n",
    "            response = self.client.embeddings.create(\n",
    "                model=self.model,\n",
    "                inputs=cleaned_batch\n",
    "            )\n",
    "            embeddings.extend([e.embedding for e in response.data])\n",
    "            time.sleep(5)  \n",
    "        return embeddings\n",
    "    \n",
    "    def embed_query(self, text: str) -> List[float]:\n",
    "        text = text.replace(\"\\n\", \" \")\n",
    "        response = self.client.embeddings.create(\n",
    "            model=self.model,\n",
    "            inputs=[text]\n",
    "        )\n",
    "        return response.data[0].embedding"
   ]
  },
  {
   "cell_type": "code",
   "execution_count": 8,
   "id": "4bdfc773-8831-4785-baa2-117684ca588c",
   "metadata": {},
   "outputs": [],
   "source": [
    "embeddings = MistralEmbeddings(batch_size=32)"
   ]
  },
  {
   "cell_type": "code",
   "execution_count": 9,
   "id": "86c6415e-f691-497a-bfb6-13d1d85e3bc3",
   "metadata": {},
   "outputs": [],
   "source": [
    "from langchain_community.vectorstores import UpstashVectorStore\n",
    "\n",
    "store = UpstashVectorStore(\n",
    "    embedding=embeddings,\n",
    "    index_url=UPSTASH_VECTOR_REST_URL,\n",
    "    index_token=UPSTASH_VECTOR_REST_TOKEN\n",
    ")"
   ]
  },
  {
   "cell_type": "code",
   "execution_count": 10,
   "id": "1705393e-52a1-4a71-89b6-fa00f150356c",
   "metadata": {},
   "outputs": [],
   "source": [
    "from langchain_community.document_loaders import TextLoader\n",
    "from langchain_text_splitters import RecursiveCharacterTextSplitter, TokenTextSplitter, CharacterTextSplitter"
   ]
  },
  {
   "cell_type": "code",
   "execution_count": 11,
   "id": "ad93421e-8c5d-4a4d-a252-b0e5df2a3a79",
   "metadata": {},
   "outputs": [],
   "source": [
    "model = ChatMistralAI(api_key=MISTRAL_API_KEY)"
   ]
  },
  {
   "cell_type": "code",
   "execution_count": 12,
   "id": "632f9087-e3df-4738-858e-58bbd994fc4d",
   "metadata": {},
   "outputs": [],
   "source": [
    "text_splitter = RecursiveCharacterTextSplitter(chunk_size=100, chunk_overlap=0)"
   ]
  },
  {
   "cell_type": "code",
   "execution_count": 13,
   "id": "2be8c5cb-0bea-4987-a726-f33f450571d9",
   "metadata": {},
   "outputs": [],
   "source": [
    "docs = text_splitter.split_documents(documents)"
   ]
  },
  {
   "cell_type": "code",
   "execution_count": 14,
   "id": "36eb32f8-cae2-429a-a01c-c710440e09e1",
   "metadata": {},
   "outputs": [
    {
     "data": {
      "text/plain": [
       "935"
      ]
     },
     "execution_count": 14,
     "metadata": {},
     "output_type": "execute_result"
    }
   ],
   "source": [
    "len(docs)"
   ]
  },
  {
   "cell_type": "code",
   "execution_count": 15,
   "id": "1d8f88c5-b82b-4b94-9833-f31067d37c1f",
   "metadata": {},
   "outputs": [],
   "source": [
    "inserted_vectors = store.add_documents(docs)"
   ]
  },
  {
   "cell_type": "code",
   "execution_count": 16,
   "id": "fcd81c34-eff6-4305-a627-7a23a0f207cb",
   "metadata": {},
   "outputs": [
    {
     "name": "stdout",
     "output_type": "stream",
     "text": [
      "{'source': 'https://en.wikipedia.org/wiki/Tehran', 'title': 'Tehran, Tehran'} - 0.93282855\n",
      "{'source': 'https://en.wikipedia.org/wiki/Tehran', 'title': 'Tehran, Tehran'} - 0.9215398\n"
     ]
    }
   ],
   "source": [
    "result = store.similarity_search_with_score(\"what is the the the tallest tower in Tehran?\", k=2)\n",
    "for doc, score in result:\n",
    "    print(f\"{doc.metadata} - {score}\")"
   ]
  },
  {
   "cell_type": "code",
   "execution_count": null,
   "id": "c014dc2f-f169-422f-8a39-9cacff399032",
   "metadata": {},
   "outputs": [],
   "source": []
  }
 ],
 "metadata": {
  "kernelspec": {
   "display_name": "Python 3 (ipykernel)",
   "language": "python",
   "name": "python3"
  },
  "language_info": {
   "codemirror_mode": {
    "name": "ipython",
    "version": 3
   },
   "file_extension": ".py",
   "mimetype": "text/x-python",
   "name": "python",
   "nbconvert_exporter": "python",
   "pygments_lexer": "ipython3",
   "version": "3.11.11"
  }
 },
 "nbformat": 4,
 "nbformat_minor": 5
}
