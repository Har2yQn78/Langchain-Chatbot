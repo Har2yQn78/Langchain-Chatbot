{
 "cells": [
  {
   "cell_type": "code",
   "execution_count": 1,
   "id": "0d51f72f-95b9-4403-b695-706a1a305d14",
   "metadata": {},
   "outputs": [],
   "source": [
    "import os\n",
    "from decouple import config, AutoConfig\n",
    "from langchain_mistralai.chat_models import ChatMistralAI\n",
    "from langchain.schema import HumanMessage, SystemMessage\n",
    "from langchain_core.prompts import ChatPromptTemplate\n",
    "from langchain_core.output_parsers import StrOutputParser\n",
    "import os\n",
    "config = AutoConfig(search_path=\"/home/harry/Chatbot\") "
   ]
  },
  {
   "cell_type": "code",
   "execution_count": 2,
   "id": "feaf38be-b3b8-449e-bdd9-7a2ec969dbd9",
   "metadata": {},
   "outputs": [],
   "source": [
    "MISTRAL_API_KEY = config(\"MISTRAL_API_KEY\")"
   ]
  },
  {
   "cell_type": "code",
   "execution_count": 3,
   "id": "a38e534b-9e84-4e08-8d3b-48e561949257",
   "metadata": {},
   "outputs": [],
   "source": [
    "model = ChatMistralAI(api_key=MISTRAL_API_KEY)"
   ]
  },
  {
   "cell_type": "code",
   "execution_count": 4,
   "id": "4ea686f7-5a22-43bb-8fd7-7e0d06da3e33",
   "metadata": {},
   "outputs": [],
   "source": [
    "parser = StrOutputParser()"
   ]
  },
  {
   "cell_type": "code",
   "execution_count": 5,
   "id": "165f2e00-fcab-4acb-b73c-9b0bcac6d60e",
   "metadata": {},
   "outputs": [],
   "source": [
    "system_prompt = \"Translate the following into {language}\"\n",
    "\n",
    "prompt_template = ChatPromptTemplate.from_messages(\n",
    "    [\n",
    "        (\"system\", system_prompt),\n",
    "        (\"user\", \"{input_text}\")\n",
    "    ]\n",
    ")"
   ]
  },
  {
   "cell_type": "code",
   "execution_count": 6,
   "id": "9bd61e1a-215a-41f8-b45d-8f462f84d659",
   "metadata": {},
   "outputs": [
    {
     "data": {
      "text/plain": [
       "'Hallo Da!\\n\\nThe word \"there\" is not necessary to include in the German translation, as it doesn\\'t have a direct equivalent in this context. The most common way to say \"hello\" in German is \"Hallo\".'"
      ]
     },
     "execution_count": 6,
     "metadata": {},
     "output_type": "execute_result"
    }
   ],
   "source": [
    "chain = prompt_template | model | parser \n",
    "chain.invoke({\"language\": \"German\", \"input_text\": \"Hello There\"})"
   ]
  },
  {
   "cell_type": "code",
   "execution_count": 7,
   "id": "0229c27d-2bce-406c-aa2f-70379b3d96b1",
   "metadata": {},
   "outputs": [
    {
     "data": {
      "text/plain": [
       "'\"Hello There\" in Farsi is \"سلام خوب farda\" (Salaam khub farda). However, please note that \"سلام خوب farda\" literally translates to \"Good morning tomorrow\" and it is a common way to say \"hello\" in Farsi. If you specifically want to say \"hello there\", you can use \"آدم جوش ک Jordan\" (Adam josh kojan), which is a more direct translation.'"
      ]
     },
     "execution_count": 7,
     "metadata": {},
     "output_type": "execute_result"
    }
   ],
   "source": [
    "chain.invoke({\"language\": \"Farsi\", \"input_text\": \"Hello There\"})"
   ]
  },
  {
   "cell_type": "code",
   "execution_count": 8,
   "id": "f1690182-de0b-44a9-ba7b-e93a8074131e",
   "metadata": {},
   "outputs": [
    {
     "data": {
      "text/plain": [
       "'Ciao là (informal)\\n\\nSalve (formal)\\n\\nThese are two ways to say \"Hello There\" in Italian. \"Ciao là\" is more informal and can be used with friends, while \"Salve\" is more formal and can be used in any situation.'"
      ]
     },
     "execution_count": 8,
     "metadata": {},
     "output_type": "execute_result"
    }
   ],
   "source": [
    "chain.invoke({\"language\": \"Italian\", \"input_text\": \"Hello There\"})"
   ]
  },
  {
   "cell_type": "code",
   "execution_count": null,
   "id": "ea6f7e09-c91f-42a6-8f49-8463279fcd7f",
   "metadata": {},
   "outputs": [],
   "source": []
  }
 ],
 "metadata": {
  "kernelspec": {
   "display_name": "Python 3 (ipykernel)",
   "language": "python",
   "name": "python3"
  },
  "language_info": {
   "codemirror_mode": {
    "name": "ipython",
    "version": 3
   },
   "file_extension": ".py",
   "mimetype": "text/x-python",
   "name": "python",
   "nbconvert_exporter": "python",
   "pygments_lexer": "ipython3",
   "version": "3.11.11"
  }
 },
 "nbformat": 4,
 "nbformat_minor": 5
}
