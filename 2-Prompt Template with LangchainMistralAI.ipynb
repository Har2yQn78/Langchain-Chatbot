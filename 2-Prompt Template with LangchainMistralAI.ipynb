{
 "cells": [
  {
   "cell_type": "code",
   "execution_count": 19,
   "id": "0d51f72f-95b9-4403-b695-706a1a305d14",
   "metadata": {},
   "outputs": [],
   "source": [
    "import os\n",
    "from decouple import config, AutoConfig\n",
    "from langchain_mistralai.chat_models import ChatMistralAI\n",
    "from langchain.schema import HumanMessage, SystemMessage\n",
    "from langchain_core.prompts import ChatPromptTemplate\n",
    "from langchain_core.output_parsers import StrOutputParser\n",
    "import os\n",
    "config = AutoConfig(search_path=\"/home/harry/Chatbot\") "
   ]
  },
  {
   "cell_type": "code",
   "execution_count": 20,
   "id": "feaf38be-b3b8-449e-bdd9-7a2ec969dbd9",
   "metadata": {},
   "outputs": [],
   "source": [
    "MISTRAL_API_KEY = config(\"MISTRAL_API_KEY\")"
   ]
  },
  {
   "cell_type": "code",
   "execution_count": 21,
   "id": "1ed2715d-5b2a-485f-be0a-fe87f60f4b23",
   "metadata": {},
   "outputs": [],
   "source": [
    "LLM_CONFIG = {\n",
    "    \"api_key\" : MISTRAL_API_KEY, \n",
    "}"
   ]
  },
  {
   "cell_type": "code",
   "execution_count": 22,
   "id": "a38e534b-9e84-4e08-8d3b-48e561949257",
   "metadata": {},
   "outputs": [],
   "source": [
    "model = ChatMistralAI(**LLM_CONFIG)"
   ]
  },
  {
   "cell_type": "code",
   "execution_count": 23,
   "id": "4ea686f7-5a22-43bb-8fd7-7e0d06da3e33",
   "metadata": {},
   "outputs": [],
   "source": [
    "parser = StrOutputParser()"
   ]
  },
  {
   "cell_type": "code",
   "execution_count": 24,
   "id": "165f2e00-fcab-4acb-b73c-9b0bcac6d60e",
   "metadata": {},
   "outputs": [],
   "source": [
    "system_prompt = \"Translate the following into {language}\"\n",
    "\n",
    "prompt_template = ChatPromptTemplate.from_messages(\n",
    "    [\n",
    "        (\"system\", system_prompt),\n",
    "        (\"user\", \"{input_text}\")\n",
    "    ]\n",
    ")"
   ]
  },
  {
   "cell_type": "code",
   "execution_count": 25,
   "id": "9bd61e1a-215a-41f8-b45d-8f462f84d659",
   "metadata": {},
   "outputs": [
    {
     "data": {
      "text/plain": [
       "'\"Hello there\" can be translated into German as \"Hallo dort.\" However, in German, it is more common to say \"Hallo\" or \"Guten Tag\" (Good day) when greeting someone, without including \"there.\" The context and the situation will determine if you should include \"there\" in your greeting.'"
      ]
     },
     "execution_count": 25,
     "metadata": {},
     "output_type": "execute_result"
    }
   ],
   "source": [
    "chain = prompt_template | model | parser \n",
    "chain.invoke({\"language\": \"German\", \"input_text\": \"Hello There\"})"
   ]
  },
  {
   "cell_type": "code",
   "execution_count": 26,
   "id": "0229c27d-2bce-406c-aa2f-70379b3d96b1",
   "metadata": {},
   "outputs": [
    {
     "data": {
      "text/plain": [
       "'\"Hello There\" in Farsi can be translated as \"سلام در حال کردن\" (Salaam dar hâl kardan). However, Farsi speakers usually use \"سلام\" (Salaam) which is the equivalent of \"Hello\" in English and is more commonly used in Farsi. So, you can simply use \"سلام\" to greet someone in Farsi.'"
      ]
     },
     "execution_count": 26,
     "metadata": {},
     "output_type": "execute_result"
    }
   ],
   "source": [
    "chain.invoke({\"language\": \"Farsi\", \"input_text\": \"Hello There\"})"
   ]
  },
  {
   "cell_type": "code",
   "execution_count": 27,
   "id": "f1690182-de0b-44a9-ba7b-e93a8074131e",
   "metadata": {},
   "outputs": [
    {
     "data": {
      "text/plain": [
       "'Ciao là\\n\\nThe Italian translation for \"Hello there\" is \"Ciao là\". \"Ciao\" is a common greeting in Italian, similar to \"hello\", and \"là\" is added to give a more casual and friendly tone, similar to \"there\" in English. However, keep in mind that \"Ciao là\" is more informal and should be used with people you know or in a casual setting.'"
      ]
     },
     "execution_count": 27,
     "metadata": {},
     "output_type": "execute_result"
    }
   ],
   "source": [
    "chain.invoke({\"language\": \"Italian\", \"input_text\": \"Hello There\"})"
   ]
  },
  {
   "cell_type": "code",
   "execution_count": null,
   "id": "ea6f7e09-c91f-42a6-8f49-8463279fcd7f",
   "metadata": {},
   "outputs": [],
   "source": []
  }
 ],
 "metadata": {
  "kernelspec": {
   "display_name": "Python 3 (ipykernel)",
   "language": "python",
   "name": "python3"
  },
  "language_info": {
   "codemirror_mode": {
    "name": "ipython",
    "version": 3
   },
   "file_extension": ".py",
   "mimetype": "text/x-python",
   "name": "python",
   "nbconvert_exporter": "python",
   "pygments_lexer": "ipython3",
   "version": "3.11.11"
  }
 },
 "nbformat": 4,
 "nbformat_minor": 5
}
