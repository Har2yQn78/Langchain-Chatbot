{
 "cells": [
  {
   "cell_type": "code",
   "execution_count": 35,
   "id": "64339905-49bb-495b-9c98-5833d8140444",
   "metadata": {},
   "outputs": [],
   "source": [
    "#import secrets"
   ]
  },
  {
   "cell_type": "code",
   "execution_count": 36,
   "id": "a84850b2-4bee-4b14-8ee7-6e95fa61b40e",
   "metadata": {},
   "outputs": [],
   "source": [
    "#secrets.token_urlsafe(32)"
   ]
  },
  {
   "cell_type": "code",
   "execution_count": 37,
   "id": "2eb8cab9-fb06-41b3-b5db-dfc955529d6e",
   "metadata": {},
   "outputs": [],
   "source": [
    "import os\n",
    "from decouple import config, AutoConfig\n",
    "from langserve import RemoteRunnable\n",
    "config = AutoConfig(search_path=\"/home/harry/Chatbot\") "
   ]
  },
  {
   "cell_type": "code",
   "execution_count": 38,
   "id": "51aae271-c625-4d84-bd25-c4f785cbb0e5",
   "metadata": {},
   "outputs": [],
   "source": [
    "API_ACCESS_KEY = config(\"API_ACCESS_KEY\", default=None)"
   ]
  },
  {
   "cell_type": "code",
   "execution_count": 39,
   "id": "17324741-d6d2-4841-9702-e5c0506d03b7",
   "metadata": {},
   "outputs": [],
   "source": [
    "import requests"
   ]
  },
  {
   "cell_type": "code",
   "execution_count": 40,
   "id": "4597a70b-3575-45bc-a798-c04eabca9f47",
   "metadata": {},
   "outputs": [],
   "source": [
    "base_url = \"http://localhost:8100/\""
   ]
  },
  {
   "cell_type": "code",
   "execution_count": 41,
   "id": "65faf3c4-747c-442c-8856-015c99d152a4",
   "metadata": {},
   "outputs": [],
   "source": [
    "data = {\"input\": \"Tell about New Shiraz\"}"
   ]
  },
  {
   "cell_type": "code",
   "execution_count": 42,
   "id": "bc6d4e52-6ce3-4a19-986e-834190ca1e4e",
   "metadata": {},
   "outputs": [],
   "source": [
    "r = requests.get(base_url, json=data, headers={\"X-API-Key\": f\"{API_ACCESS_KEY}\"})"
   ]
  },
  {
   "cell_type": "code",
   "execution_count": 43,
   "id": "f9f47fb5-c8f7-4915-96bb-5f006ae3ee74",
   "metadata": {},
   "outputs": [
    {
     "data": {
      "text/plain": [
       "200"
      ]
     },
     "execution_count": 43,
     "metadata": {},
     "output_type": "execute_result"
    }
   ],
   "source": [
    "r.status_code"
   ]
  },
  {
   "cell_type": "code",
   "execution_count": 44,
   "id": "50fec92d-b9fd-487a-8091-11d70bd74617",
   "metadata": {},
   "outputs": [],
   "source": [
    "chain_endpoint = f\"{base_url}chain/\""
   ]
  },
  {
   "cell_type": "code",
   "execution_count": 45,
   "id": "95299f17-a3f5-42e8-b6d4-9f9c58f83244",
   "metadata": {},
   "outputs": [],
   "source": [
    "runner = RemoteRunnable(chain_endpoint, headers={\"X-API-Key\": f\"{API_ACCESS_KEY}\"})"
   ]
  },
  {
   "cell_type": "code",
   "execution_count": 46,
   "id": "3975cfd2-1e53-4242-9d66-e7666a4a9919",
   "metadata": {},
   "outputs": [
    {
     "data": {
      "text/plain": [
       "\"Tehran is the capital city of Iran, located in the northern part of the country. It's the most populous city in Western Asia, serving as the cultural, commercial, and political center of the country. Tehran is situated at the foot of the Alborz mountain range, which provides a mild climate and beautiful natural scenery for its residents. The city is home to numerous historical sites, museums, and universities, making it a vital hub in the region.\""
      ]
     },
     "execution_count": 46,
     "metadata": {},
     "output_type": "execute_result"
    }
   ],
   "source": [
    "runner.invoke(\"Where is Tehran?\")"
   ]
  },
  {
   "cell_type": "code",
   "execution_count": null,
   "id": "5067cff9-0ee1-42de-be93-69a39a50c591",
   "metadata": {},
   "outputs": [],
   "source": []
  },
  {
   "cell_type": "code",
   "execution_count": null,
   "id": "7086d055-e833-427a-9090-056ceeb6084b",
   "metadata": {},
   "outputs": [],
   "source": []
  }
 ],
 "metadata": {
  "kernelspec": {
   "display_name": "Python 3 (ipykernel)",
   "language": "python",
   "name": "python3"
  },
  "language_info": {
   "codemirror_mode": {
    "name": "ipython",
    "version": 3
   },
   "file_extension": ".py",
   "mimetype": "text/x-python",
   "name": "python",
   "nbconvert_exporter": "python",
   "pygments_lexer": "ipython3",
   "version": "3.11.11"
  }
 },
 "nbformat": 4,
 "nbformat_minor": 5
}
