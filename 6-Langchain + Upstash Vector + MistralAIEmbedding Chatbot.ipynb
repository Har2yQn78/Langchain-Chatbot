{
 "cells": [
  {
   "cell_type": "code",
   "execution_count": 10,
   "id": "0d51f72f-95b9-4403-b695-706a1a305d14",
   "metadata": {},
   "outputs": [],
   "source": [
    "import os\n",
    "from typing import List\n",
    "from decouple import config, AutoConfig\n",
    "from mistralai import Mistral\n",
    "from langchain_mistralai.chat_models import ChatMistralAI\n",
    "from langchain_core.embeddings import Embeddings\n",
    "from langchain_community.vectorstores import UpstashVectorStore\n",
    "config = AutoConfig(search_path=\"/home/harry/Chatbot\")"
   ]
  },
  {
   "cell_type": "code",
   "execution_count": 11,
   "id": "acbee3cc-93da-4a1d-baf5-510227503421",
   "metadata": {},
   "outputs": [],
   "source": [
    "MISTRAL_API_KEY = config(\"MISTRAL_API_KEY\")\n",
    "HF_TOKEN = config(\"HF_TOKEN\")\n",
    "os.environ[\"HF_TOKEN\"] = HF_TOKEN\n",
    "UPSTASH_VECTOR_REST_URL = config(\"UPSTASH_VECTOR_REST_URL\")\n",
    "UPSTASH_VECTOR_REST_TOKEN = config(\"UPSTASH_VECTOR_REST_TOKEN\")"
   ]
  },
  {
   "cell_type": "code",
   "execution_count": 15,
   "id": "35a155e1-4841-4ed1-9837-7c7d2bb3070c",
   "metadata": {},
   "outputs": [],
   "source": [
    "class MistralEmbeddings(Embeddings):\n",
    "    def __init__(self, model: str = \"mistral-embed\"):\n",
    "        self.model = model\n",
    "        self.client = Mistral(api_key=MISTRAL_API_KEY)\n",
    "        \n",
    "    def embed_documents(self, texts: List[str]) -> List[List[float]]:\n",
    "        cleaned_texts = [t.replace(\"\\n\", \" \") for t in texts]\n",
    "        response = self.client.embeddings.create(\n",
    "            model=self.model,\n",
    "            inputs=cleaned_texts\n",
    "        )\n",
    "        return [e.embedding for e in response.data]\n",
    "    \n",
    "    def embed_query(self, text: str) -> List[float]:\n",
    "        text = text.replace(\"\\n\", \" \")\n",
    "        response = self.client.embeddings.create(\n",
    "            model=self.model,\n",
    "            inputs=[text]\n",
    "        )\n",
    "        return response.data[0].embedding"
   ]
  },
  {
   "cell_type": "code",
   "execution_count": 17,
   "id": "e22d3476-911e-4416-aaec-feb64312625f",
   "metadata": {},
   "outputs": [],
   "source": [
    "embeddings = MistralEmbeddings()\n",
    "store = UpstashVectorStore(\n",
    "    embedding=embeddings,\n",
    "    index_url=UPSTASH_VECTOR_REST_URL,\n",
    "    index_token=UPSTASH_VECTOR_REST_TOKEN\n",
    ")"
   ]
  },
  {
   "cell_type": "code",
   "execution_count": 18,
   "id": "ee556870-9e41-4ebd-941c-74540e532cf7",
   "metadata": {},
   "outputs": [],
   "source": [
    "retriever = store.as_retriever(\n",
    "    search_type='similarity',\n",
    "    search_kwargs={'k': 2}\n",
    ")"
   ]
  },
  {
   "cell_type": "code",
   "execution_count": 19,
   "id": "d15b751f-b9ac-47b2-b3f3-ef91fae2b5fb",
   "metadata": {},
   "outputs": [],
   "source": [
    "from langchain_mistralai.chat_models import ChatMistralAI\n",
    "from mistralai import Mistral"
   ]
  },
  {
   "cell_type": "code",
   "execution_count": 20,
   "id": "078ed78d-e270-45a0-85cc-3f42f0a51880",
   "metadata": {},
   "outputs": [],
   "source": [
    "LLM_CONFIG = {\n",
    "    \"api_key\" : MISTRAL_API_KEY, \n",
    "}"
   ]
  },
  {
   "cell_type": "code",
   "execution_count": 21,
   "id": "7528ffb7-127a-47e0-9393-d4a5948a615a",
   "metadata": {},
   "outputs": [],
   "source": [
    "model = ChatMistralAI(**LLM_CONFIG)"
   ]
  },
  {
   "cell_type": "code",
   "execution_count": 22,
   "id": "c014dc2f-f169-422f-8a39-9cacff399032",
   "metadata": {},
   "outputs": [],
   "source": [
    "from langchain_core.prompts import ChatPromptTemplate\n",
    "\n",
    "message = \"\"\"\n",
    "Answer this question using the provided context only.\n",
    "\n",
    "{question}\n",
    "\n",
    "Context:\n",
    "{context}\n",
    "\"\"\"\n",
    "\n",
    "prompt = ChatPromptTemplate.from_messages([(\"human\", message)])"
   ]
  },
  {
   "cell_type": "code",
   "execution_count": 23,
   "id": "34bf5f6d-3e3f-49d4-8184-1bdb5f1a9d09",
   "metadata": {},
   "outputs": [
    {
     "data": {
      "text/plain": [
       "{'passed': {'num': 31}, 'modified': 3816751}"
      ]
     },
     "execution_count": 23,
     "metadata": {},
     "output_type": "execute_result"
    }
   ],
   "source": [
    "from langchain_core.runnables import RunnableParallel, RunnablePassthrough\n",
    "\n",
    "runnable = RunnableParallel(\n",
    "    passed=RunnablePassthrough(),\n",
    "    modified=lambda x: x[\"num\"] * 123121,\n",
    ")\n",
    "\n",
    "runnable.invoke({\"num\": 31})"
   ]
  },
  {
   "cell_type": "code",
   "execution_count": 24,
   "id": "d5e5a2f3-a056-412c-be0e-eec489bfffbd",
   "metadata": {},
   "outputs": [],
   "source": [
    "from langchain_core.output_parsers import StrOutputParser\n",
    "parser = StrOutputParser()"
   ]
  },
  {
   "cell_type": "code",
   "execution_count": 25,
   "id": "b60cee7d-d023-4d2c-a591-7d33e8084740",
   "metadata": {},
   "outputs": [],
   "source": [
    "chain = {\"context\": retriever, \"question\": RunnablePassthrough()} | prompt | model | parser"
   ]
  },
  {
   "cell_type": "code",
   "execution_count": 33,
   "id": "9f8b2a5c-36ca-4556-b9f5-d2f714996d8f",
   "metadata": {},
   "outputs": [
    {
     "data": {
      "text/plain": [
       "'Shiraz is famous for being one of the top tourist cities in Iran, and it is also known as the city of poets and literature.'"
      ]
     },
     "execution_count": 33,
     "metadata": {},
     "output_type": "execute_result"
    }
   ],
   "source": [
    "chain.invoke(\"what is shiraz famous for?\")"
   ]
  },
  {
   "cell_type": "code",
   "execution_count": null,
   "id": "8add7b10-025e-4eac-b546-9c2d77124619",
   "metadata": {},
   "outputs": [],
   "source": []
  }
 ],
 "metadata": {
  "kernelspec": {
   "display_name": "Python 3 (ipykernel)",
   "language": "python",
   "name": "python3"
  },
  "language_info": {
   "codemirror_mode": {
    "name": "ipython",
    "version": 3
   },
   "file_extension": ".py",
   "mimetype": "text/x-python",
   "name": "python",
   "nbconvert_exporter": "python",
   "pygments_lexer": "ipython3",
   "version": "3.11.11"
  }
 },
 "nbformat": 4,
 "nbformat_minor": 5
}
