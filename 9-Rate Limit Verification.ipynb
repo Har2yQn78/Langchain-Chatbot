{
 "cells": [
  {
   "cell_type": "code",
   "execution_count": 1,
   "id": "bc8aa846-8d73-4fdf-9b5a-3a8112d7cafa",
   "metadata": {},
   "outputs": [],
   "source": [
    "import requests"
   ]
  },
  {
   "cell_type": "code",
   "execution_count": null,
   "id": "db55e8a1-fbd5-4ada-a91a-822d2bf7de28",
   "metadata": {},
   "outputs": [],
   "source": [
    "endpoint = \"http://localhost:8100/\"\n",
    "chain_type = \"\"\n",
    "url = f\"{endpoint}{chain_type}\"\n",
    "url"
   ]
  },
  {
   "cell_type": "code",
   "execution_count": null,
   "id": "ad271f90-f9b3-4b5f-8779-70563ff1a31a",
   "metadata": {},
   "outputs": [],
   "source": [
    "data = {\"input\": \"Tell about Tehran\"}"
   ]
  },
  {
   "cell_type": "code",
   "execution_count": null,
   "id": "5c6d06fa-d46c-445f-9677-601c80378244",
   "metadata": {},
   "outputs": [],
   "source": [
    "r = requests.get(url, json=data)"
   ]
  },
  {
   "cell_type": "code",
   "execution_count": null,
   "id": "7a7c6e1b-da98-4a24-af4a-59a2ba825c3f",
   "metadata": {},
   "outputs": [],
   "source": [
    "r.status_code"
   ]
  },
  {
   "cell_type": "code",
   "execution_count": null,
   "id": "4f74c3fa-07b3-4217-aa7d-4cdcf872a1ad",
   "metadata": {},
   "outputs": [],
   "source": []
  }
 ],
 "metadata": {
  "kernelspec": {
   "display_name": "Python 3 (ipykernel)",
   "language": "python",
   "name": "python3"
  },
  "language_info": {
   "codemirror_mode": {
    "name": "ipython",
    "version": 3
   },
   "file_extension": ".py",
   "mimetype": "text/x-python",
   "name": "python",
   "nbconvert_exporter": "python",
   "pygments_lexer": "ipython3",
   "version": "3.11.11"
  }
 },
 "nbformat": 4,
 "nbformat_minor": 5
}
