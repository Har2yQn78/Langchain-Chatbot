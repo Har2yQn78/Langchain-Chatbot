{
 "cells": [
  {
   "cell_type": "code",
   "execution_count": 4,
   "id": "0d51f72f-95b9-4403-b695-706a1a305d14",
   "metadata": {},
   "outputs": [],
   "source": [
    "import os\n",
    "from decouple import config, AutoConfig\n",
    "from langchain_community.chat_models import ChatOpenAI\n",
    "from langchain.schema import HumanMessage, SystemMessage\n",
    "from langchain_core.prompts import ChatPromptTemplate\n",
    "from langchain_core.output_parsers import StrOutputParser\n",
    "import os\n",
    "config = AutoConfig(search_path=\"/home/harry/Chatbot\") "
   ]
  },
  {
   "cell_type": "code",
   "execution_count": 5,
   "id": "8ebcc5cd-fd93-4caf-8c39-3bb6ff4fc5f4",
   "metadata": {},
   "outputs": [],
   "source": [
    "class ChatOpenRouter(ChatOpenAI):\n",
    "    def __init__(\n",
    "        self,\n",
    "        model_name: str,\n",
    "        openai_api_key: str = None,\n",
    "        openai_api_base: str = \"https://openrouter.ai/api/v1\",\n",
    "        **kwargs\n",
    "    ):\n",
    "        openai_api_key = openai_api_key or os.getenv(\"LLM_API_KEY\")\n",
    "        super().__init__(\n",
    "            openai_api_base=openai_api_base,\n",
    "            openai_api_key=openai_api_key,\n",
    "            model_name=model_name,\n",
    "            **kwargs\n",
    "        )"
   ]
  },
  {
   "cell_type": "code",
   "execution_count": 6,
   "id": "feaf38be-b3b8-449e-bdd9-7a2ec969dbd9",
   "metadata": {},
   "outputs": [],
   "source": [
    "LLM_API_KEY = config(\"LLM_API_KEY\")"
   ]
  },
  {
   "cell_type": "code",
   "execution_count": 7,
   "id": "a38e534b-9e84-4e08-8d3b-48e561949257",
   "metadata": {},
   "outputs": [],
   "source": [
    "model_config = {\n",
    "     \"model_name\" : \"deepseek/deepseek-chat:free\",\n",
    "     \"openai_api_key\" : LLM_API_KEY\n",
    "}"
   ]
  },
  {
   "cell_type": "code",
   "execution_count": 8,
   "id": "75505e62-40fe-41e3-ac62-aee01da1c9da",
   "metadata": {},
   "outputs": [],
   "source": [
    "model = ChatOpenRouter(**model_config)"
   ]
  },
  {
   "cell_type": "code",
   "execution_count": 22,
   "id": "4ea686f7-5a22-43bb-8fd7-7e0d06da3e33",
   "metadata": {},
   "outputs": [],
   "source": [
    "parser = StrOutputParser()"
   ]
  },
  {
   "cell_type": "code",
   "execution_count": 16,
   "id": "165f2e00-fcab-4acb-b73c-9b0bcac6d60e",
   "metadata": {},
   "outputs": [],
   "source": [
    "system_prompt = \"Translate the following into {language}\"\n",
    "\n",
    "prompt_template = ChatPromptTemplate.from_messages(\n",
    "    [\n",
    "        (\"system\", system_prompt),\n",
    "        (\"user\", \"{input_text}\")\n",
    "    ]\n",
    ")"
   ]
  },
  {
   "cell_type": "code",
   "execution_count": 23,
   "id": "9bd61e1a-215a-41f8-b45d-8f462f84d659",
   "metadata": {},
   "outputs": [
    {
     "data": {
      "text/plain": [
       "'Hallo da!'"
      ]
     },
     "execution_count": 23,
     "metadata": {},
     "output_type": "execute_result"
    }
   ],
   "source": [
    "chain = prompt_template | model | parser \n",
    "chain.invoke({\"language\": \"German\", \"input_text\": \"Hello There\"})"
   ]
  },
  {
   "cell_type": "code",
   "execution_count": 24,
   "id": "0229c27d-2bce-406c-aa2f-70379b3d96b1",
   "metadata": {},
   "outputs": [
    {
     "data": {
      "text/plain": [
       "'سلام'"
      ]
     },
     "execution_count": 24,
     "metadata": {},
     "output_type": "execute_result"
    }
   ],
   "source": [
    "chain.invoke({\"language\": \"Farsi\", \"input_text\": \"Hello There\"})"
   ]
  },
  {
   "cell_type": "code",
   "execution_count": 25,
   "id": "f1690182-de0b-44a9-ba7b-e93a8074131e",
   "metadata": {},
   "outputs": [
    {
     "data": {
      "text/plain": [
       "'Ciao!'"
      ]
     },
     "execution_count": 25,
     "metadata": {},
     "output_type": "execute_result"
    }
   ],
   "source": [
    "chain.invoke({\"language\": \"Italian\", \"input_text\": \"Hello There\"})"
   ]
  },
  {
   "cell_type": "code",
   "execution_count": null,
   "id": "ea6f7e09-c91f-42a6-8f49-8463279fcd7f",
   "metadata": {},
   "outputs": [],
   "source": []
  }
 ],
 "metadata": {
  "kernelspec": {
   "display_name": "Python 3 (ipykernel)",
   "language": "python",
   "name": "python3"
  },
  "language_info": {
   "codemirror_mode": {
    "name": "ipython",
    "version": 3
   },
   "file_extension": ".py",
   "mimetype": "text/x-python",
   "name": "python",
   "nbconvert_exporter": "python",
   "pygments_lexer": "ipython3",
   "version": "3.11.11"
  }
 },
 "nbformat": 4,
 "nbformat_minor": 5
}
