{
 "cells": [
  {
   "cell_type": "code",
   "execution_count": 3,
   "id": "9a03ceb1-7441-44d1-a04f-069ae3064630",
   "metadata": {},
   "outputs": [],
   "source": [
    "from langserve import RemoteRunnable\n",
    "\n",
    "chain_endpoint = \"http://localhost:8100/chain/\""
   ]
  },
  {
   "cell_type": "code",
   "execution_count": 4,
   "id": "545610ce-07e9-40cf-829b-193a73575733",
   "metadata": {},
   "outputs": [],
   "source": [
    "chain = RemoteRunnable(chain_endpoint)"
   ]
  },
  {
   "cell_type": "code",
   "execution_count": 5,
   "id": "09124e09-5ce7-400b-9af1-0a7dbba536ae",
   "metadata": {},
   "outputs": [
    {
     "data": {
      "text/plain": [
       "\"Tehran is the capital city of Iran, located in the northern part of the country. It is the most populous city in Iran and serves as the country's political, cultural, and economic center. Tehran is home to many universities, museums, and cultural institutions, as well as several historical sites and landmarks. The city has a diverse population and is known for its vibrant street life and traditional bazaars. Tehran is situated in the foothills of the Alborz Mountains and has a mild climate, with hot summers and cold winters.\""
      ]
     },
     "execution_count": 5,
     "metadata": {},
     "output_type": "execute_result"
    }
   ],
   "source": [
    "chain.invoke(\"Tell me about Tehran\")"
   ]
  },
  {
   "cell_type": "code",
   "execution_count": 6,
   "id": "c0950fd4-27f1-436a-a68d-7c1314db3562",
   "metadata": {},
   "outputs": [
    {
     "name": "stdout",
     "output_type": "stream",
     "text": [
      "\n",
      "Based\n",
      " on\n",
      " the\n",
      " provided\n",
      " context\n",
      ",\n",
      " Shir\n",
      "az\n",
      " is\n",
      " a\n",
      " city\n",
      " in\n",
      " Iran\n",
      " and\n",
      " is\n",
      " the\n",
      " capital\n",
      " of\n",
      " the\n",
      " F\n",
      "ars\n",
      " province\n",
      ".\n",
      " It\n",
      " is\n",
      " the\n",
      " fifth\n",
      "-\n",
      "most\n",
      "-\n",
      "pop\n",
      "ulous\n",
      " city\n",
      " in\n",
      " the\n",
      " country\n",
      ".\n",
      "\n"
     ]
    }
   ],
   "source": [
    "for chunk in chain.stream(\"What do you know about Shiraz?\"):\n",
    "    print(chunk)"
   ]
  },
  {
   "cell_type": "code",
   "execution_count": 7,
   "id": "c7707027-ad90-4d4f-a784-7a7a0401bfd3",
   "metadata": {},
   "outputs": [
    {
     "data": {
      "text/plain": [
       "\"Tehran is the capital city of Iran, as well as the country's largest city and its leading cultural, commercial, and industrial center. It is situated at the foot of the Tochal mountain range and the Alborz Mountains, in the northern part of the country. Tehran is Iran's administrative center and the capital of Tehran Province. It is home to the country's most important governmental, cultural, commercial, and recreational institutions.\\n\\nTehran is a modern city with a population of around 8.7 million in the city and 15 million in the larger metropolitan area. The city is home to many modern structures, among them the Milad Tower, the Azadi Tower, the National Stadium, the Museum of Contemporary Art, and the Tehran Museum of Glass. There are also many parks and open spaces within the city.\\n\\nThe city was established as the capital of Iran by Agha Mohammad Khan of the Qajar Dynasty in 1796. However, it was not until the reign of Nasser od-Din Shah of the Qajar dynasty that Tehran became a major urban center. During the second half of the 20th century, the city went through a period of rapid growth and expansion, which has continued to the present day.\\n\\nTehran has a semi-arid climate, with hot, dry summers and mild, wet winters. Spring and autumn are relatively short, and there is often a significant amount of rainfall during these seasons. The city is home to many universities, including the University of Tehran, one of the country's oldest and most prestigious institutions of higher learning. Tehran is also a major transportation hub, with an extensive network of roads, highways, and railways connecting it to other parts of the country.\""
      ]
     },
     "execution_count": 7,
     "metadata": {},
     "output_type": "execute_result"
    }
   ],
   "source": [
    "await chain.ainvoke(\"Tell me about Tehran\")"
   ]
  },
  {
   "cell_type": "code",
   "execution_count": 9,
   "id": "38042385-916c-4ba6-ab8f-67d206da56a4",
   "metadata": {},
   "outputs": [
    {
     "name": "stdout",
     "output_type": "stream",
     "text": [
      "\n",
      "Based\n",
      " on\n",
      " the\n",
      " provided\n",
      " context\n",
      ",\n",
      " Shir\n",
      "az\n",
      " is\n",
      " the\n",
      " fifth\n",
      "-\n",
      "most\n",
      "-\n",
      "pop\n",
      "ulous\n",
      " city\n",
      " in\n",
      " Iran\n",
      " and\n",
      " the\n",
      " capital\n",
      " of\n",
      " the\n",
      " F\n",
      "ars\n",
      " province\n",
      ".\n",
      " Other\n",
      " than\n",
      " that\n",
      ",\n",
      " the\n",
      " context\n",
      " does\n",
      " not\n",
      " provide\n",
      " any\n",
      " additional\n",
      " information\n",
      " about\n",
      " Shir\n",
      "az\n",
      ",\n",
      " such\n",
      " as\n",
      " its\n",
      " history\n",
      ",\n",
      " culture\n",
      ",\n",
      " or\n",
      " notable\n",
      " features\n",
      ".\n",
      "\n",
      "\n",
      "\n",
      "\n",
      "Acc\n",
      "ording\n",
      " to\n",
      " the\n",
      " Wikipedia\n",
      " page\n",
      " for\n",
      " Shir\n",
      "az\n",
      ",\n",
      " it\n",
      " is\n",
      " one\n",
      " of\n",
      " the\n",
      " oldest\n",
      " cities\n",
      " in\n",
      " southern\n",
      " Iran\n",
      " and\n",
      " has\n",
      " a\n",
      " history\n",
      " dating\n",
      " back\n",
      " to\n",
      " \n",
      "2\n",
      "0\n",
      "0\n",
      "0\n",
      " BC\n",
      ".\n",
      " It\n",
      " was\n",
      " the\n",
      " capital\n",
      " of\n",
      " several\n",
      " Pers\n",
      "ian\n",
      " em\n",
      "pires\n",
      " and\n",
      " is\n",
      " known\n",
      " for\n",
      " its\n",
      " cultural\n",
      ",\n",
      " historical\n",
      ",\n",
      " and\n",
      " architect\n",
      "ural\n",
      " significance\n",
      ".\n",
      " Some\n",
      " of\n",
      " the\n",
      " notable\n",
      " attra\n",
      "ctions\n",
      " in\n",
      " Shir\n",
      "az\n",
      " include\n",
      " the\n",
      " Er\n",
      "am\n",
      " Garden\n",
      ",\n",
      " the\n",
      " T\n",
      "omb\n",
      " of\n",
      " Ha\n",
      "fe\n",
      "z\n",
      ",\n",
      " and\n",
      " the\n",
      " T\n",
      "omb\n",
      " of\n",
      " Sa\n",
      "adi\n",
      ",\n",
      " which\n",
      " are\n",
      " popular\n",
      " tourist\n",
      " dest\n",
      "inations\n",
      ".\n",
      " Shir\n",
      "az\n",
      " is\n",
      " also\n",
      " famous\n",
      " for\n",
      " its\n",
      " wine\n",
      ",\n",
      " although\n",
      " alcohol\n",
      " is\n",
      " currently\n",
      " prohib\n",
      "ited\n",
      " in\n",
      " Iran\n",
      ".\n",
      "\n"
     ]
    }
   ],
   "source": [
    "async for chunk in chain.astream(\"What do you know about Shiraz?\"):\n",
    "    print(chunk)"
   ]
  },
  {
   "cell_type": "code",
   "execution_count": 10,
   "id": "932ad7f2-1320-46a8-aaec-5072ae2f0814",
   "metadata": {},
   "outputs": [],
   "source": [
    "from langchain_core.prompts import PromptTemplate\n",
    "from langchain_core.runnables import RunnablePassthrough\n",
    "\n",
    "prompt = PromptTemplate.from_template(\"Tell me about {topic}\")\n",
    "\n",
    "def format_prompt(inputs):\n",
    "    prompt_value = prompt.format_prompt(**inputs)\n",
    "    return prompt_value.to_string()\n",
    "\n",
    "\n",
    "new_chain = RunnablePassthrough() | format_prompt | chain"
   ]
  },
  {
   "cell_type": "code",
   "execution_count": 11,
   "id": "1a34abe6-a379-402a-b9f4-a1f745bb0476",
   "metadata": {},
   "outputs": [
    {
     "data": {
      "text/plain": [
       "'Based on the provided context, Shiraz, a city in the Fars province of Iran, is known as the birthplace of the famous Persian poet, Hafez Shirazi. The city is considered a significant center for Iranian culture. However, the context does not provide more specific details about the culture of Shiraz. To learn more about the culture of Shiraz, it would be beneficial to consult additional sources.'"
      ]
     },
     "execution_count": 11,
     "metadata": {},
     "output_type": "execute_result"
    }
   ],
   "source": [
    "new_chain.invoke({\"topic\": \"Shiraz Culture\"})"
   ]
  },
  {
   "cell_type": "code",
   "execution_count": null,
   "id": "45e32bd7-c459-4bb9-a779-54d4b5861a86",
   "metadata": {},
   "outputs": [],
   "source": []
  }
 ],
 "metadata": {
  "kernelspec": {
   "display_name": "Python 3 (ipykernel)",
   "language": "python",
   "name": "python3"
  },
  "language_info": {
   "codemirror_mode": {
    "name": "ipython",
    "version": 3
   },
   "file_extension": ".py",
   "mimetype": "text/x-python",
   "name": "python",
   "nbconvert_exporter": "python",
   "pygments_lexer": "ipython3",
   "version": "3.11.11"
  }
 },
 "nbformat": 4,
 "nbformat_minor": 5
}
