{
 "cells": [
  {
   "cell_type": "code",
   "execution_count": 27,
   "id": "0d51f72f-95b9-4403-b695-706a1a305d14",
   "metadata": {},
   "outputs": [],
   "source": [
    "import os\n",
    "from decouple import config\n",
    "from langchain_community.chat_models import ChatOpenAI\n",
    "from langchain.schema import HumanMessage, SystemMessage\n",
    "import os\n",
    "config = AutoConfig(search_path=\"/home/harry/Chatbot\") "
   ]
  },
  {
   "cell_type": "code",
   "execution_count": 28,
   "id": "8ebcc5cd-fd93-4caf-8c39-3bb6ff4fc5f4",
   "metadata": {},
   "outputs": [],
   "source": [
    "class ChatOpenRouter(ChatOpenAI):\n",
    "    def __init__(\n",
    "        self,\n",
    "        model_name: str,\n",
    "        openai_api_key: str = None,\n",
    "        openai_api_base: str = \"https://openrouter.ai/api/v1\",\n",
    "        **kwargs\n",
    "    ):\n",
    "        openai_api_key = openai_api_key or os.getenv(\"LLM_API_KEY\")\n",
    "        super().__init__(\n",
    "            openai_api_base=openai_api_base,\n",
    "            openai_api_key=openai_api_key,\n",
    "            model_name=model_name,\n",
    "            **kwargs\n",
    "        )"
   ]
  },
  {
   "cell_type": "code",
   "execution_count": 29,
   "id": "feaf38be-b3b8-449e-bdd9-7a2ec969dbd9",
   "metadata": {},
   "outputs": [],
   "source": [
    "LLM_API_KEY = config(\"LLM_API_KEY\")"
   ]
  },
  {
   "cell_type": "code",
   "execution_count": 51,
   "id": "a38e534b-9e84-4e08-8d3b-48e561949257",
   "metadata": {},
   "outputs": [],
   "source": [
    "model_config = {\n",
    "     \"model_name\" : \"deepseek/deepseek-chat:free\",\n",
    "     \"openai_api_key\" : LLM_API_KEY\n",
    "}"
   ]
  },
  {
   "cell_type": "code",
   "execution_count": 52,
   "id": "75505e62-40fe-41e3-ac62-aee01da1c9da",
   "metadata": {},
   "outputs": [],
   "source": [
    "model = ChatOpenRouter(**model_config)"
   ]
  },
  {
   "cell_type": "code",
   "execution_count": 53,
   "id": "1d84dccc-58ae-4e7f-a279-79e489360acf",
   "metadata": {},
   "outputs": [],
   "source": [
    "messages = [\n",
    "    SystemMessage(content=\"translate from English to Germany\"),\n",
    "    HumanMessage(content=\"hi!\")\n",
    "]\n",
    "\n",
    "result = llm(messages)"
   ]
  },
  {
   "cell_type": "code",
   "execution_count": 54,
   "id": "13550772-326d-4e97-b7f0-2915db5ff609",
   "metadata": {},
   "outputs": [
    {
     "data": {
      "text/plain": [
       "AIMessage(content='Hallo! 😊 Wie kann ich dir helfen?', additional_kwargs={}, response_metadata={'token_usage': {'completion_tokens': 12, 'prompt_tokens': 10, 'total_tokens': 22, 'completion_tokens_details': None, 'prompt_tokens_details': None}, 'model_name': 'deepseek/deepseek-chat:free', 'system_fingerprint': None, 'finish_reason': 'stop', 'logprobs': {'content': [{'token': 'token_id:42', 'bytes': [72], 'logprob': -0.000560245884116739, 'top_logprobs': []}, {'token': 'token_id:48856', 'bytes': [97, 108, 108, 111], 'logprob': 0.0, 'top_logprobs': []}, {'token': 'token_id:3', 'bytes': [33], 'logprob': -5.221230458118953e-05, 'top_logprobs': []}, {'token': 'token_id:53769', 'bytes': [], 'logprob': -1.1323511600494385, 'top_logprobs': []}, {'token': 'token_id:235', 'bytes': [32, 240, 159, 152, 138], 'logprob': -5.960462772236497e-07, 'top_logprobs': []}, {'token': 'token_id:41994', 'bytes': [32, 87, 105, 101], 'logprob': -2.925267457962036, 'top_logprobs': []}, {'token': 'token_id:16847', 'bytes': [32, 107, 97, 110, 110], 'logprob': -0.006682548671960831, 'top_logprobs': []}, {'token': 'token_id:16363', 'bytes': [32, 105, 99, 104], 'logprob': 0.0, 'top_logprobs': []}, {'token': 'token_id:15983', 'bytes': [32, 100, 105, 114], 'logprob': -0.0002810560108628124, 'top_logprobs': []}, {'token': 'token_id:99647', 'bytes': [32, 104, 101, 108, 102, 101, 110], 'logprob': -0.00230404338799417, 'top_logprobs': []}, {'token': 'token_id:33', 'bytes': [63], 'logprob': -2.7418097943154862e-06, 'top_logprobs': []}, {'token': 'token_id:1', 'bytes': [], 'logprob': -0.003371390514075756, 'top_logprobs': []}], 'refusal': []}}, id='run-2e806eaa-5bf8-4a7f-b5b8-226615f7202c-0')"
      ]
     },
     "execution_count": 54,
     "metadata": {},
     "output_type": "execute_result"
    }
   ],
   "source": [
    "result"
   ]
  },
  {
   "cell_type": "code",
   "execution_count": 55,
   "id": "d8f56da1-7943-4c4b-8f9b-fce04405dc8d",
   "metadata": {},
   "outputs": [],
   "source": [
    "from langchain_core.output_parsers import StrOutputParser"
   ]
  },
  {
   "cell_type": "code",
   "execution_count": 56,
   "id": "4ea686f7-5a22-43bb-8fd7-7e0d06da3e33",
   "metadata": {},
   "outputs": [
    {
     "data": {
      "text/plain": [
       "'Hallo! 😊 Wie kann ich dir helfen?'"
      ]
     },
     "execution_count": 56,
     "metadata": {},
     "output_type": "execute_result"
    }
   ],
   "source": [
    "parser = StrOutputParser()\n",
    "parser.invoke(result)"
   ]
  },
  {
   "cell_type": "code",
   "execution_count": 57,
   "id": "9bd61e1a-215a-41f8-b45d-8f462f84d659",
   "metadata": {},
   "outputs": [
    {
     "data": {
      "text/plain": [
       "'Hallo!'"
      ]
     },
     "execution_count": 57,
     "metadata": {},
     "output_type": "execute_result"
    }
   ],
   "source": [
    "chain = model | parser \n",
    "chain.invoke(messages)"
   ]
  },
  {
   "cell_type": "code",
   "execution_count": null,
   "id": "0229c27d-2bce-406c-aa2f-70379b3d96b1",
   "metadata": {},
   "outputs": [],
   "source": []
  }
 ],
 "metadata": {
  "kernelspec": {
   "display_name": "Python 3 (ipykernel)",
   "language": "python",
   "name": "python3"
  },
  "language_info": {
   "codemirror_mode": {
    "name": "ipython",
    "version": 3
   },
   "file_extension": ".py",
   "mimetype": "text/x-python",
   "name": "python",
   "nbconvert_exporter": "python",
   "pygments_lexer": "ipython3",
   "version": "3.11.11"
  }
 },
 "nbformat": 4,
 "nbformat_minor": 5
}
